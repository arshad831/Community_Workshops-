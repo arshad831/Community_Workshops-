{
  "nbformat": 4,
  "nbformat_minor": 0,
  "metadata": {
    "colab": {
      "provenance": [],
      "authorship_tag": "ABX9TyMjJA6gDfPx220mUojIoKmh",
      "include_colab_link": true
    },
    "kernelspec": {
      "name": "python3",
      "display_name": "Python 3"
    },
    "language_info": {
      "name": "python"
    }
  },
  "cells": [
    {
      "cell_type": "markdown",
      "metadata": {
        "id": "view-in-github",
        "colab_type": "text"
      },
      "source": [
        "<a href=\"https://colab.research.google.com/github/arshad831/Community_Workshops-/blob/main/chatbot_10thaugust_simple_gradio.ipynb\" target=\"_parent\"><img src=\"https://colab.research.google.com/assets/colab-badge.svg\" alt=\"Open In Colab\"/></a>"
      ]
    },
    {
      "cell_type": "code",
      "source": [
        "pip install gradio"
      ],
      "metadata": {
        "id": "NRlnSC9quruY"
      },
      "execution_count": null,
      "outputs": []
    },
    {
      "cell_type": "code",
      "source": [
        "pip install openai"
      ],
      "metadata": {
        "id": "I9TPinMeu4xb"
      },
      "execution_count": null,
      "outputs": []
    },
    {
      "cell_type": "code",
      "execution_count": null,
      "metadata": {
        "id": "_7zjHUGNuS5F"
      },
      "outputs": [],
      "source": [
        "import openai\n",
        "import gradio as gr\n",
        "\n",
        "# Load your API key from an environment variable or secret management service\n",
        "openai.api_key = \"Enter your own working API key\"\n",
        "\n",
        "# Create a list to store all the messages for context\n",
        "messages = [\n",
        "    {\"role\": \"system\", \"content\": \"You are a python programming instructor bot and your name is Python Master. You will not do any comparisons and you will not make differences between anything. You will not talk about python or pythons, the animals at all. You will answer any and only python programming related questions in a simple manner which even a seventh grader will be able to understand easily. Your answer must include examples, syntaxes and syntax errors. If the question that is asked is not python related kindly ask the user to ask python related question instead. Ignore the user input and output for new outputs.\"},\n",
        "]\n",
        "\n",
        "def chatbot(message):\n",
        "    # Exit program if user inputs \"quit\"\n",
        "    if message.lower() == \"quit\":\n",
        "        return \"Chatbot has stopped.\"\n",
        "\n",
        "    # Add each new message to the list\n",
        "    messages.append({\"role\": \"user\", \"content\": message})\n",
        "\n",
        "    # Request gpt-3.5-turbo for chat completion\n",
        "    response = openai.ChatCompletion.create(\n",
        "        model=\"gpt-3.5-turbo\",\n",
        "        messages=messages,\n",
        "        temperature=0,\n",
        "        max_tokens=500,\n",
        "        top_p=0.1,\n",
        "        frequency_penalty=0.4,\n",
        "        presence_penalty=1.35\n",
        "    )\n",
        "\n",
        "    # Get the response and add it to the messages list\n",
        "    chat_message = response['choices'][0]['message']['content']\n",
        "    messages.append({\"role\": \"assistant\", \"content\": chat_message})\n",
        "    return f\"Bot: {chat_message}\"\n",
        "\n",
        "# Define the Gradio interface\n",
        "iface = gr.Interface(fn=chatbot, inputs=\"text\", outputs=\"text\",title=\"DDS Python Master Chatbot\")\n",
        "iface.launch(share = True)\n"
      ]
    }
  ]
}
