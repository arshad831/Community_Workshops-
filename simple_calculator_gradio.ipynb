{
  "nbformat": 4,
  "nbformat_minor": 0,
  "metadata": {
    "colab": {
      "provenance": [],
      "authorship_tag": "ABX9TyPJMlc/XMq83P5zHpw3Nk3Y",
      "include_colab_link": true
    },
    "kernelspec": {
      "name": "python3",
      "display_name": "Python 3"
    },
    "language_info": {
      "name": "python"
    }
  },
  "cells": [
    {
      "cell_type": "markdown",
      "metadata": {
        "id": "view-in-github",
        "colab_type": "text"
      },
      "source": [
        "<a href=\"https://colab.research.google.com/github/arshad831/Community_Workshops-/blob/main/simple_calculator_gradio.ipynb\" target=\"_parent\"><img src=\"https://colab.research.google.com/assets/colab-badge.svg\" alt=\"Open In Colab\"/></a>"
      ]
    },
    {
      "cell_type": "code",
      "execution_count": null,
      "metadata": {
        "id": "JXDVtY4lLQ2h"
      },
      "outputs": [],
      "source": [
        "import gradio as gr\n",
        "\n",
        "def calculator(operation, num1, num2):\n",
        "    if operation == \"+\":\n",
        "        result = num1 + num2\n",
        "    elif operation == \"-\":\n",
        "        result = num1 - num2\n",
        "    elif operation == \"*\":\n",
        "        result = num1 * num2\n",
        "    elif operation == \"/\":\n",
        "        if num2 != 0:  # Add a check to prevent division by zero\n",
        "            result = num1 / num2\n",
        "        else:\n",
        "            return \"Error: Division by zero is not allowed.\"\n",
        "    else:\n",
        "        return f\"ERROR! '{operation}' is invalid. Please try again.\"\n",
        "\n",
        "    return result\n",
        "\n",
        "iface = gr.Interface(\n",
        "    fn=calculator,\n",
        "    inputs=[\"text\", \"number\", \"number\"],\n",
        "    outputs=\"text\"\n",
        ")\n",
        "\n",
        "iface.launch(share=True)"
      ]
    }
  ]
}